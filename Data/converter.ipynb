{
 "cells": [
  {
   "cell_type": "code",
   "execution_count": 11,
   "id": "743c9ce2-8286-452a-87b9-e27d6a1db711",
   "metadata": {},
   "outputs": [],
   "source": [
    "import os\n",
    "import pandas as pd"
   ]
  },
  {
   "cell_type": "code",
   "execution_count": 22,
   "id": "0d5d6c5e-b73f-45e9-a6c0-48f0024556c7",
   "metadata": {},
   "outputs": [],
   "source": [
    "sample_size= 50_000\n",
    "\n",
    "data= pd.read_csv('raw_data.csv', low_memory= False)\n",
    "\n",
    "unprocessed_data= data.sample(n= sample_size)\n",
    "test_features= unprocessed_data['neo']\n",
    "test_target= unprocessed_data.drop('neo', axis= 1)\n",
    "\n",
    "directory_path = 'model_testing_data'\n",
    "os.makedirs(directory_path, exist_ok=True)\n",
    "\n",
    "unprocessed_data.to_csv(os.path.join(directory_path, 'unprocessed_data.csv'), index=False)\n",
    "test_features.to_csv(os.path.join(directory_path, 'test_features.csv'), index=False)\n",
    "test_target.to_csv(os.path.join(directory_path, 'test_target.csv'), index=False)"
   ]
  },
  {
   "cell_type": "code",
   "execution_count": null,
   "id": "5eab0fba-b814-4d15-aa7e-c72ac9a02ab0",
   "metadata": {},
   "outputs": [],
   "source": []
  }
 ],
 "metadata": {
  "kernelspec": {
   "display_name": "Python 3 (ipykernel)",
   "language": "python",
   "name": "python3"
  },
  "language_info": {
   "codemirror_mode": {
    "name": "ipython",
    "version": 3
   },
   "file_extension": ".py",
   "mimetype": "text/x-python",
   "name": "python",
   "nbconvert_exporter": "python",
   "pygments_lexer": "ipython3",
   "version": "3.10.11"
  }
 },
 "nbformat": 4,
 "nbformat_minor": 5
}
