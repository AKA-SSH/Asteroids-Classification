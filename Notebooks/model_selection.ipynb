{
 "cells": [
  {
   "cell_type": "markdown",
   "id": "c74f61f8-6f1f-41f8-8c37-27badb3685de",
   "metadata": {},
   "source": [
    "## Libraries"
   ]
  },
  {
   "cell_type": "code",
   "execution_count": 15,
   "id": "3b5e41ba-4e1d-46a9-b1d3-9e8d12ada90d",
   "metadata": {},
   "outputs": [],
   "source": [
    "# data loading\n",
    "import pickle\n",
    "\n",
    "# data manipulation\n",
    "import numpy as np\n",
    "import pandas as pd\n",
    "\n",
    "# data representation\n",
    "import seaborn as sns\n",
    "import matplotlib.pyplot as plt\n",
    "\n",
    "# machine learning models\n",
    "from sklearn.linear_model import LogisticRegression\n",
    "from sklearn.ensemble import RandomForestClassifier\n",
    "\n",
    "# evaluation metrics for classification\n",
    "from sklearn.metrics import accuracy_score, recall_score, confusion_matrix\n",
    "\n",
    "# ignore warning\n",
    "import warnings\n",
    "from sklearn.exceptions import DataConversionWarning"
   ]
  },
  {
   "cell_type": "code",
   "execution_count": 16,
   "id": "81635b25-e3ec-40f1-86f5-4e3b41a48270",
   "metadata": {},
   "outputs": [],
   "source": [
    "warnings.filterwarnings(\"ignore\", category=DataConversionWarning)"
   ]
  },
  {
   "cell_type": "markdown",
   "id": "bdc19ca4-9e1b-4711-84bd-3f0c39a27aaf",
   "metadata": {},
   "source": [
    "## Loading Data"
   ]
  },
  {
   "cell_type": "code",
   "execution_count": 17,
   "id": "ea7e7dce-0c2c-432e-adc0-3dea947c392d",
   "metadata": {},
   "outputs": [],
   "source": [
    "def unpickle_file(file_name):\n",
    "    with open(file_name, 'rb') as f:\n",
    "        data= pickle.load(f)\n",
    "    return data"
   ]
  },
  {
   "cell_type": "code",
   "execution_count": 18,
   "id": "c6bd7543-6319-4db6-8b78-8f569d64e218",
   "metadata": {},
   "outputs": [],
   "source": [
    "train_features= unpickle_file('Data/resampled_train_features.pkl')\n",
    "train_target= unpickle_file('Data/resampled_train_target.pkl').to_frame()\n",
    "test_features= unpickle_file('Data/test_features.pkl')\n",
    "test_target= unpickle_file('Data/test_target.pkl').to_frame()"
   ]
  },
  {
   "cell_type": "markdown",
   "id": "a7abb27c-5fbc-47e7-823e-bd098017a37b",
   "metadata": {},
   "source": [
    "# Model Selection"
   ]
  },
  {
   "cell_type": "markdown",
   "id": "354db71c-9ba8-40aa-a34a-f2571d714455",
   "metadata": {},
   "source": [
    "## Helper Functions"
   ]
  },
  {
   "cell_type": "code",
   "execution_count": 19,
   "id": "fcbbde48-6c6d-40c2-b2d5-bdd381639abf",
   "metadata": {},
   "outputs": [],
   "source": [
    "def plot_CM(true, predicted):\n",
    "    # Calculate confusion matrix\n",
    "    CM = confusion_matrix(true, predicted)\n",
    "    \n",
    "    # Convert each cell to percentage\n",
    "    CM_percentage = CM / CM.sum(axis=1, keepdims=True) * 100\n",
    "\n",
    "    # Drawing heatmap for confusion matrix with percentage values\n",
    "    plt.figure(figsize=(4, 4))\n",
    "    sns.heatmap(CM_percentage,\n",
    "                annot=True,\n",
    "                fmt='.2f',\n",
    "                cmap='Blues',\n",
    "                cbar=False,\n",
    "                xticklabels=['Predicted 0', 'Predicted 1'],\n",
    "                yticklabels=['Actual 0', 'Actual 1'])\n",
    "    \n",
    "    # Representation\n",
    "    plt.title('Confusion Matrix (Percentage)')\n",
    "    plt.xlabel('Predicted')\n",
    "    plt.ylabel('True')\n",
    "    plt.show()"
   ]
  },
  {
   "cell_type": "code",
   "execution_count": 20,
   "id": "94c8b4b9-01d2-45f8-93c8-ffe655c6b53b",
   "metadata": {},
   "outputs": [],
   "source": [
    "def evaluate_model(model, model_name, train_features, test_features, train_target, test_target):\n",
    "    # fit model on train data\n",
    "    model.fit(train_features, train_target)\n",
    "    \n",
    "    # find predictions for train and test data\n",
    "    train_prediction= model.predict(train_features)\n",
    "    test_prediction= model.predict(test_features)\n",
    "    \n",
    "    train_accuracy= accuracy_score(train_target, train_prediction)*100\n",
    "    train_recall= recall_score(train_target, train_prediction)*100\n",
    "    test_accuracy= accuracy_score(test_target, test_prediction)*100\n",
    "    test_recall= recall_score(test_target, test_prediction)*100\n",
    "    \n",
    "    # evalute model performance\n",
    "    print('='*150)\n",
    "    print(f'MODEL : {model_name}')\n",
    "    print('='*150)\n",
    "    print('TRAIN DATA')\n",
    "    print('-'*150)\n",
    "    print(f'ACC: {train_accuracy:.3f} %')\n",
    "    print(f'REC: {train_recall:.3f} %')\n",
    "    print('-'*150)\n",
    "    print('TEST DATA')\n",
    "    print('-'*150)\n",
    "    print(f'ACC: {test_accuracy:.3f} %')\n",
    "    print(f'REC: {test_recall:.3f} %')\n",
    "    print('-'*150)\n",
    "    plot_CM(test_target, test_prediction)"
   ]
  },
  {
   "cell_type": "code",
   "execution_count": 21,
   "id": "9b7975dc-5980-4cfd-8cbb-bbe91787cd44",
   "metadata": {},
   "outputs": [],
   "source": [
    "classification_models = {'Logistic Regression': LogisticRegression(max_iter= 1000),\n",
    "                         'Random Forest Classifier': RandomForestClassifier()}"
   ]
  },
  {
   "cell_type": "code",
   "execution_count": null,
   "id": "848a3d01-14d9-4155-8446-f1dda592892a",
   "metadata": {
    "scrolled": true
   },
   "outputs": [
    {
     "name": "stdout",
     "output_type": "stream",
     "text": [
      "======================================================================================================================================================\n",
      "MODEL : Logistic Regression\n",
      "======================================================================================================================================================\n",
      "TRAIN DATA\n",
      "------------------------------------------------------------------------------------------------------------------------------------------------------\n",
      "ACC: 99.926 %\n",
      "REC: 99.910 %\n",
      "------------------------------------------------------------------------------------------------------------------------------------------------------\n",
      "TEST DATA\n",
      "------------------------------------------------------------------------------------------------------------------------------------------------------\n",
      "ACC: 99.941 %\n",
      "REC: 99.891 %\n",
      "------------------------------------------------------------------------------------------------------------------------------------------------------\n"
     ]
    },
    {
     "data": {
      "image/png": "[encoded data removed]",
      "text/plain": [
       "<Figure size 400x400 with 1 Axes>"
      ]
     },
     "metadata": {},
     "output_type": "display_data"
    }
   ],
   "source": [
    "for model_name, model_object in classification_models.items():\n",
    "    evaluate_model(model_object, model_name, train_features, test_features, train_target, test_target)"
   ]
  },
  {
   "cell_type": "markdown",
   "id": "74707efc-c250-49ad-b5a5-7117c8fc8ef7",
   "metadata": {},
   "source": [
    "**Model Selected:** Random Forest Classifier"
   ]
  }
 ],
 "metadata": {
  "kernelspec": {
   "display_name": "Python 3 (ipykernel)",
   "language": "python",
   "name": "python3"
  },
  "language_info": {
   "codemirror_mode": {
    "name": "ipython",
    "version": 3
   },
   "file_extension": ".py",
   "mimetype": "text/x-python",
   "name": "python",
   "nbconvert_exporter": "python",
   "pygments_lexer": "ipython3",
   "version": "3.10.11"
  }
 },
 "nbformat": 4,
 "nbformat_minor": 5
}
